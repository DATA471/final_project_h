{
 "cells": [
  {
   "cell_type": "markdown",
   "metadata": {},
   "source": [
    "## 1. Data Understanding: "
   ]
  },
  {
   "cell_type": "code",
   "execution_count": null,
   "metadata": {},
   "outputs": [],
   "source": []
  },
  {
   "cell_type": "markdown",
   "metadata": {},
   "source": [
    "## 2. EDA"
   ]
  },
  {
   "cell_type": "markdown",
   "metadata": {},
   "source": [
    "## 3. Data Preparation:"
   ]
  },
  {
   "cell_type": "markdown",
   "metadata": {},
   "source": [
    "## 4. Modeling"
   ]
  },
  {
   "cell_type": "markdown",
   "metadata": {},
   "source": [
    "- ### Modle Selection:\n",
    "    - **Choose Model:**\n",
    "    - **Baseline Model** "
   ]
  },
  {
   "cell_type": "markdown",
   "metadata": {},
   "source": [
    "- ### Training Model\n",
    "    - **Fit the Model:**\n",
    "    - **Hyperparameter Tunning:**"
   ]
  },
  {
   "cell_type": "markdown",
   "metadata": {},
   "source": [
    "- ### Evaluate Model\n",
    "    - **Validation Set Evaluation:** Use the validation set to assess how well the model generalizes to unseen data\n",
    "    - **Cross-Validation:** Apply k-fold cross-validation to reduce variance and ensure robust model performance."
   ]
  },
  {
   "cell_type": "markdown",
   "metadata": {},
   "source": [
    "- ### Model Improvment: \n",
    "    - **Feature Selection:** use feature selection technique to retain the most relevant features.\n",
    "    - **Model Improvment:** Improve the model by tuning hyperparameters"
   ]
  },
  {
   "cell_type": "markdown",
   "metadata": {},
   "source": [
    "- ### Testing:\n",
    "    - After finalizing the model, evaluate it on the test set to estimate its real-world performance. This is the true performance estimate as the model has never seen this data before"
   ]
  }
 ],
 "metadata": {
  "language_info": {
   "name": "python"
  }
 },
 "nbformat": 4,
 "nbformat_minor": 2
}
